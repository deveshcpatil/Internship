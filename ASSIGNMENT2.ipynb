{
 "cells": [
  {
   "cell_type": "markdown",
   "id": "473d6f17-8bd8-4e76-bd80-b081c41b6bfa",
   "metadata": {},
   "source": [
    "<h2>QUESTION 1 ANSWER ⬇️</h2>"
   ]
  },
  {
   "cell_type": "code",
   "execution_count": 1,
   "id": "5e0cb48b-24b4-4f34-8a0e-011197cf36cf",
   "metadata": {},
   "outputs": [],
   "source": [
    "import re"
   ]
  },
  {
   "cell_type": "code",
   "execution_count": 2,
   "id": "f263f37e-8db1-49c2-99f2-d557ac3f4376",
   "metadata": {},
   "outputs": [],
   "source": [
    "import regex as re"
   ]
  },
  {
   "cell_type": "code",
   "execution_count": 134,
   "id": "e61aa57d-2cfd-481e-a3ec-3b727e968e53",
   "metadata": {},
   "outputs": [],
   "source": [
    "pattern = r\"[\\s|,|\\.]\""
   ]
  },
  {
   "cell_type": "code",
   "execution_count": 139,
   "id": "81ae96c4-85ae-4690-9298-ae3d7a1b0598",
   "metadata": {},
   "outputs": [],
   "source": [
    "string = 'Python Exercises, PHP exercises.'"
   ]
  },
  {
   "cell_type": "code",
   "execution_count": 138,
   "id": "ee2e59c4-9d48-48c7-b77c-964e97c3cd21",
   "metadata": {},
   "outputs": [
    {
     "name": "stdout",
     "output_type": "stream",
     "text": [
      "Python:Exercises:PHP:exercises:\n"
     ]
    }
   ],
   "source": [
    "output1 = re.sub(pattern, \":\", string)\n",
    "print(output1)"
   ]
  },
  {
   "cell_type": "markdown",
   "id": "ded8005a-498b-4e3a-81eb-e479f6c7a216",
   "metadata": {},
   "source": [
    "<h2>QUESTION 2 ANSWER ⬇️</h2>"
   ]
  },
  {
   "cell_type": "code",
   "execution_count": 6,
   "id": "cc592666-b300-4109-bbc6-f77450addae4",
   "metadata": {},
   "outputs": [],
   "source": [
    "pattern = r\"[!,X+,:;.\\d]\""
   ]
  },
  {
   "cell_type": "code",
   "execution_count": 7,
   "id": "3f372b8c-83cc-4bad-8dc0-101774c76204",
   "metadata": {},
   "outputs": [],
   "source": [
    "string = {'SUMMARY' : ['hello, world!', 'XXXXX test', '123four, five:; six...']}"
   ]
  },
  {
   "cell_type": "code",
   "execution_count": 8,
   "id": "e7fdb5f3-e5bb-4db2-ade7-3ad5dc753f7c",
   "metadata": {},
   "outputs": [
    {
     "name": "stdout",
     "output_type": "stream",
     "text": [
      "hello  world \n",
      "      test\n",
      "   four  five   six   \n"
     ]
    }
   ],
   "source": [
    "for x in string['SUMMARY']:\n",
    "    output2 = re.sub(pattern, \" \", x)\n",
    "    print(output2)"
   ]
  },
  {
   "cell_type": "markdown",
   "id": "302fd322-76eb-4b7e-ad71-83a52bfe0b32",
   "metadata": {},
   "source": [
    "<h2>QUESTION 3 ANSWER ⬇️</h2>"
   ]
  },
  {
   "cell_type": "code",
   "execution_count": 9,
   "id": "e84b9b74-ed57-47a5-afd1-c1b6228da9ad",
   "metadata": {},
   "outputs": [],
   "source": [
    "def patternfind1(string):\n",
    "    re_obj1 = re.compile(r\"[\\S.]{4,}\")\n",
    "    output3 = re_obj1.findall(string)\n",
    "    print(output3)"
   ]
  },
  {
   "cell_type": "code",
   "execution_count": 10,
   "id": "67919b64-d684-4196-b07a-a507e9168838",
   "metadata": {},
   "outputs": [],
   "source": [
    "string = \"FHJ=SH HH SDH%FSD ds34dhg HH&HH\""
   ]
  },
  {
   "cell_type": "code",
   "execution_count": 11,
   "id": "532f6cac-1f24-454d-8bed-0377e82945ab",
   "metadata": {},
   "outputs": [
    {
     "name": "stdout",
     "output_type": "stream",
     "text": [
      "['FHJ=SH', 'SDH%FSD', 'ds34dhg', 'HH&HH']\n"
     ]
    }
   ],
   "source": [
    "patternfind1(string)"
   ]
  },
  {
   "cell_type": "markdown",
   "id": "d6214c6c-850d-4e6b-aa0f-4e0e63690f91",
   "metadata": {},
   "source": [
    "<h2>QUESTION 4 ANSWER ⬇️</h2>"
   ]
  },
  {
   "cell_type": "code",
   "execution_count": 12,
   "id": "1f2b6363-e553-41e1-8212-f4c761126989",
   "metadata": {},
   "outputs": [],
   "source": [
    "def patternfind2(string):\n",
    "    re_obj1 = re.compile(r\"\\b\\w{3,5}\\b\")\n",
    "    output4 = re_obj1.findall(string)\n",
    "    print(output4)"
   ]
  },
  {
   "cell_type": "code",
   "execution_count": 13,
   "id": "4f035793-254c-40c6-abae-c3d81017b0c4",
   "metadata": {},
   "outputs": [],
   "source": [
    "string = \"ffgg erase dd ddg sdhjkfsssefegu\""
   ]
  },
  {
   "cell_type": "code",
   "execution_count": 14,
   "id": "d126fa7e-c495-4cc1-9d88-5598e96b5f2b",
   "metadata": {},
   "outputs": [
    {
     "name": "stdout",
     "output_type": "stream",
     "text": [
      "['ffgg', 'erase', 'ddg']\n"
     ]
    }
   ],
   "source": [
    "patternfind2(string)"
   ]
  },
  {
   "cell_type": "markdown",
   "id": "732984ee-3895-4aed-afd9-bf5268bfa750",
   "metadata": {},
   "source": [
    "<h2>QUESTION 5 ANSWER ⬇️ </h2>"
   ]
  },
  {
   "cell_type": "code",
   "execution_count": 15,
   "id": "eb0687e2-3f01-4898-990d-18c125dee411",
   "metadata": {},
   "outputs": [],
   "source": [
    "def patternfind3(list):\n",
    "    re_obj2 = re.compile(r\"[()]\")\n",
    "    for x in list:\n",
    "        output5=re_obj2.sub(\"\", x)\n",
    "        print(output5)"
   ]
  },
  {
   "cell_type": "code",
   "execution_count": 16,
   "id": "b132ba36-5b5d-494a-901a-bfd920c0f26f",
   "metadata": {},
   "outputs": [],
   "source": [
    "list = [\"example (.com)\", \"hr@fliprobo (.com)\", \"github (.com)\", \"Hello (Data Science World)\", \"Data (Scientist)\"]"
   ]
  },
  {
   "cell_type": "code",
   "execution_count": 17,
   "id": "16f83e83-7996-45c6-b2dc-93747dc47b9b",
   "metadata": {
    "scrolled": true
   },
   "outputs": [
    {
     "name": "stdout",
     "output_type": "stream",
     "text": [
      "example .com\n",
      "hr@fliprobo .com\n",
      "github .com\n",
      "Hello Data Science World\n",
      "Data Scientist\n"
     ]
    }
   ],
   "source": [
    "patternfind3(list)"
   ]
  },
  {
   "cell_type": "markdown",
   "id": "710a1db4-61af-44e1-9137-4240aeddd46f",
   "metadata": {},
   "source": [
    "<h2>QUESTION 6 ANSWER ⬇️</h2>"
   ]
  },
  {
   "cell_type": "code",
   "execution_count": 18,
   "id": "d6c6e9a0-3eb3-4610-9078-c1ae22313b4f",
   "metadata": {},
   "outputs": [
    {
     "name": "stdout",
     "output_type": "stream",
     "text": [
      "Sample String : \n",
      " [\"example (.com)\", \"hr@fliprobo (.com)\", \"github (.com)\", \"Hello (Data Science World)\", \"Data (Scientist)\"]\n",
      "\n",
      "\n",
      "The Output is as follows :\n",
      "\n",
      "\n",
      "[\"example .com\", \"hr@fliprobo .com\", \"github .com\", \"Hello Data Science World\", \"Data Scientist\"]\n"
     ]
    }
   ],
   "source": [
    "with open('text1.txt', 'r') as file:\n",
    "    string = file.read()\n",
    "    print('Sample String : \\n',string)\n",
    "    print(\"\\n\")\n",
    "    re_obj3 = re.compile(r\"[()]\")\n",
    "    output6 = re_obj3.sub(\"\",string)\n",
    "    print(\"The Output is as follows :\")\n",
    "    print('\\n')\n",
    "    print(output6)"
   ]
  },
  {
   "cell_type": "markdown",
   "id": "43acb9a9-1f01-4d46-9781-700a8341e07f",
   "metadata": {},
   "source": [
    "<h2>QUESTION 7 ANSWER ⬇️</h2>"
   ]
  },
  {
   "cell_type": "code",
   "execution_count": 19,
   "id": "580f4f29-52a5-4356-a6e8-066eaa5606bc",
   "metadata": {},
   "outputs": [],
   "source": [
    "pattern = r\"[A-Z][^A-Z]*\""
   ]
  },
  {
   "cell_type": "code",
   "execution_count": 20,
   "id": "91271f62-d8fb-414d-a511-dee793ddf664",
   "metadata": {},
   "outputs": [],
   "source": [
    "string1 = \"ImportanceOfRegularExpressionsInPython\""
   ]
  },
  {
   "cell_type": "code",
   "execution_count": 21,
   "id": "ddbea172-0350-42be-a1cd-52d30ef8e1b3",
   "metadata": {},
   "outputs": [
    {
     "data": {
      "text/plain": [
       "['Importance', 'Of', 'Regular', 'Expressions', 'In', 'Python']"
      ]
     },
     "execution_count": 21,
     "metadata": {},
     "output_type": "execute_result"
    }
   ],
   "source": [
    "re.findall(pattern, string1)"
   ]
  },
  {
   "cell_type": "markdown",
   "id": "99c9423c-4306-4402-9905-62d412844e81",
   "metadata": {},
   "source": [
    "<h2>QUESTION 8 ANSWER ⬇️</h2>"
   ]
  },
  {
   "cell_type": "code",
   "execution_count": 22,
   "id": "575d0a5b-d58b-452b-b9b6-5761ab429c42",
   "metadata": {},
   "outputs": [],
   "source": [
    "string = \"RegularExpression1IsAn2ImportantTopic3InPython\""
   ]
  },
  {
   "cell_type": "code",
   "execution_count": 23,
   "id": "0cc7fe45-bcca-44fa-9484-04984f17629c",
   "metadata": {},
   "outputs": [],
   "source": [
    "def replace1(string):\n",
    "    pattern = r\"([\\d]+[\\D]*)\"\n",
    "    output8=re.sub(pattern, r\" \\1\", string)\n",
    "    print(output8)"
   ]
  },
  {
   "cell_type": "code",
   "execution_count": 24,
   "id": "46599f7e-3e53-48c8-abb6-a00afc106f01",
   "metadata": {},
   "outputs": [
    {
     "name": "stdout",
     "output_type": "stream",
     "text": [
      "RegularExpression 1IsAn 2ImportantTopic 3InPython\n"
     ]
    }
   ],
   "source": [
    "replace1(string)"
   ]
  },
  {
   "cell_type": "markdown",
   "id": "af06a1db-d444-421d-911b-1c3d2b3efee6",
   "metadata": {},
   "source": [
    "<h2>QUESTION 9 ANSWER ⬇️</h2>"
   ]
  },
  {
   "cell_type": "code",
   "execution_count": 25,
   "id": "501c0b8b-5a92-444b-af1e-64a0f4ea0add",
   "metadata": {},
   "outputs": [],
   "source": [
    "string = \"RegularExpression1IsAn2ImportantTopic3InPython\""
   ]
  },
  {
   "cell_type": "code",
   "execution_count": 26,
   "id": "5f9039c8-3755-4ac7-b5ac-f532ea5df747",
   "metadata": {},
   "outputs": [],
   "source": [
    "def replace2(string):\n",
    "    pattern = r\"([A-Z][^A-Z0-9]*|[\\d])\"\n",
    "    \n",
    "    re.findall(pattern, string)\n",
    "    \n",
    "    output9 = re.sub(pattern, r\" \\1\", string)\n",
    "\n",
    "    print(output9)"
   ]
  },
  {
   "cell_type": "code",
   "execution_count": 27,
   "id": "1a72678f-ae7a-4310-8240-b4898e7422be",
   "metadata": {},
   "outputs": [
    {
     "name": "stdout",
     "output_type": "stream",
     "text": [
      " Regular Expression 1 Is An 2 Important Topic 3 In Python\n"
     ]
    }
   ],
   "source": [
    "replace2(string)"
   ]
  },
  {
   "cell_type": "markdown",
   "id": "b1f19bd0-5750-4d3a-810a-773a74aa4816",
   "metadata": {},
   "source": [
    "<h2>QUESTION 10 ANSWER ⬇️</h2>"
   ]
  },
  {
   "cell_type": "code",
   "execution_count": 28,
   "id": "fba21390-8341-4963-872a-dacb9a2bff0a",
   "metadata": {},
   "outputs": [],
   "source": [
    "import numpy as np\n",
    "import pandas as pd"
   ]
  },
  {
   "cell_type": "code",
   "execution_count": 29,
   "id": "1f40e628-9870-4174-a48b-b43efc44a504",
   "metadata": {},
   "outputs": [],
   "source": [
    "df = pd.read_csv('https://raw.githubusercontent.com/dsrscientist/DSData/master/happiness_score_dataset.csv')"
   ]
  },
  {
   "cell_type": "code",
   "execution_count": 30,
   "id": "2fc950b0-2b3d-4ca3-b1a4-c86a11c6a2b3",
   "metadata": {},
   "outputs": [
    {
     "data": {
      "text/html": [
       "<div>\n",
       "<style scoped>\n",
       "    .dataframe tbody tr th:only-of-type {\n",
       "        vertical-align: middle;\n",
       "    }\n",
       "\n",
       "    .dataframe tbody tr th {\n",
       "        vertical-align: top;\n",
       "    }\n",
       "\n",
       "    .dataframe thead th {\n",
       "        text-align: right;\n",
       "    }\n",
       "</style>\n",
       "<table border=\"1\" class=\"dataframe\">\n",
       "  <thead>\n",
       "    <tr style=\"text-align: right;\">\n",
       "      <th></th>\n",
       "      <th>Country</th>\n",
       "      <th>Region</th>\n",
       "      <th>Happiness Rank</th>\n",
       "      <th>Happiness Score</th>\n",
       "      <th>Standard Error</th>\n",
       "      <th>Economy (GDP per Capita)</th>\n",
       "      <th>Family</th>\n",
       "      <th>Health (Life Expectancy)</th>\n",
       "      <th>Freedom</th>\n",
       "      <th>Trust (Government Corruption)</th>\n",
       "      <th>Generosity</th>\n",
       "      <th>Dystopia Residual</th>\n",
       "    </tr>\n",
       "  </thead>\n",
       "  <tbody>\n",
       "    <tr>\n",
       "      <th>0</th>\n",
       "      <td>Switzerland</td>\n",
       "      <td>Western Europe</td>\n",
       "      <td>1</td>\n",
       "      <td>7.587</td>\n",
       "      <td>0.03411</td>\n",
       "      <td>1.39651</td>\n",
       "      <td>1.34951</td>\n",
       "      <td>0.94143</td>\n",
       "      <td>0.66557</td>\n",
       "      <td>0.41978</td>\n",
       "      <td>0.29678</td>\n",
       "      <td>2.51738</td>\n",
       "    </tr>\n",
       "    <tr>\n",
       "      <th>1</th>\n",
       "      <td>Iceland</td>\n",
       "      <td>Western Europe</td>\n",
       "      <td>2</td>\n",
       "      <td>7.561</td>\n",
       "      <td>0.04884</td>\n",
       "      <td>1.30232</td>\n",
       "      <td>1.40223</td>\n",
       "      <td>0.94784</td>\n",
       "      <td>0.62877</td>\n",
       "      <td>0.14145</td>\n",
       "      <td>0.43630</td>\n",
       "      <td>2.70201</td>\n",
       "    </tr>\n",
       "    <tr>\n",
       "      <th>2</th>\n",
       "      <td>Denmark</td>\n",
       "      <td>Western Europe</td>\n",
       "      <td>3</td>\n",
       "      <td>7.527</td>\n",
       "      <td>0.03328</td>\n",
       "      <td>1.32548</td>\n",
       "      <td>1.36058</td>\n",
       "      <td>0.87464</td>\n",
       "      <td>0.64938</td>\n",
       "      <td>0.48357</td>\n",
       "      <td>0.34139</td>\n",
       "      <td>2.49204</td>\n",
       "    </tr>\n",
       "    <tr>\n",
       "      <th>3</th>\n",
       "      <td>Norway</td>\n",
       "      <td>Western Europe</td>\n",
       "      <td>4</td>\n",
       "      <td>7.522</td>\n",
       "      <td>0.03880</td>\n",
       "      <td>1.45900</td>\n",
       "      <td>1.33095</td>\n",
       "      <td>0.88521</td>\n",
       "      <td>0.66973</td>\n",
       "      <td>0.36503</td>\n",
       "      <td>0.34699</td>\n",
       "      <td>2.46531</td>\n",
       "    </tr>\n",
       "    <tr>\n",
       "      <th>4</th>\n",
       "      <td>Canada</td>\n",
       "      <td>North America</td>\n",
       "      <td>5</td>\n",
       "      <td>7.427</td>\n",
       "      <td>0.03553</td>\n",
       "      <td>1.32629</td>\n",
       "      <td>1.32261</td>\n",
       "      <td>0.90563</td>\n",
       "      <td>0.63297</td>\n",
       "      <td>0.32957</td>\n",
       "      <td>0.45811</td>\n",
       "      <td>2.45176</td>\n",
       "    </tr>\n",
       "  </tbody>\n",
       "</table>\n",
       "</div>"
      ],
      "text/plain": [
       "       Country          Region  Happiness Rank  Happiness Score  \\\n",
       "0  Switzerland  Western Europe               1            7.587   \n",
       "1      Iceland  Western Europe               2            7.561   \n",
       "2      Denmark  Western Europe               3            7.527   \n",
       "3       Norway  Western Europe               4            7.522   \n",
       "4       Canada   North America               5            7.427   \n",
       "\n",
       "   Standard Error  Economy (GDP per Capita)   Family  \\\n",
       "0         0.03411                   1.39651  1.34951   \n",
       "1         0.04884                   1.30232  1.40223   \n",
       "2         0.03328                   1.32548  1.36058   \n",
       "3         0.03880                   1.45900  1.33095   \n",
       "4         0.03553                   1.32629  1.32261   \n",
       "\n",
       "   Health (Life Expectancy)  Freedom  Trust (Government Corruption)  \\\n",
       "0                   0.94143  0.66557                        0.41978   \n",
       "1                   0.94784  0.62877                        0.14145   \n",
       "2                   0.87464  0.64938                        0.48357   \n",
       "3                   0.88521  0.66973                        0.36503   \n",
       "4                   0.90563  0.63297                        0.32957   \n",
       "\n",
       "   Generosity  Dystopia Residual  \n",
       "0     0.29678            2.51738  \n",
       "1     0.43630            2.70201  \n",
       "2     0.34139            2.49204  \n",
       "3     0.34699            2.46531  \n",
       "4     0.45811            2.45176  "
      ]
     },
     "execution_count": 30,
     "metadata": {},
     "output_type": "execute_result"
    }
   ],
   "source": [
    "df.head()"
   ]
  },
  {
   "cell_type": "code",
   "execution_count": 31,
   "id": "7b9715df-887c-4850-a8f0-11b3741fa5ff",
   "metadata": {},
   "outputs": [
    {
     "data": {
      "text/plain": [
       "Country\n",
       "Switzerland    1\n",
       "Bangladesh     1\n",
       "Greece         1\n",
       "Lebanon        1\n",
       "Hungary        1\n",
       "              ..\n",
       "Kazakhstan     1\n",
       "Slovenia       1\n",
       "Lithuania      1\n",
       "Nicaragua      1\n",
       "Togo           1\n",
       "Name: count, Length: 158, dtype: int64"
      ]
     },
     "execution_count": 31,
     "metadata": {},
     "output_type": "execute_result"
    }
   ],
   "source": [
    "df['Country'].value_counts()"
   ]
  },
  {
   "cell_type": "code",
   "execution_count": 32,
   "id": "e2c51b8e-f343-492f-8585-7f53a43c5d68",
   "metadata": {},
   "outputs": [
    {
     "data": {
      "text/html": [
       "<div>\n",
       "<style scoped>\n",
       "    .dataframe tbody tr th:only-of-type {\n",
       "        vertical-align: middle;\n",
       "    }\n",
       "\n",
       "    .dataframe tbody tr th {\n",
       "        vertical-align: top;\n",
       "    }\n",
       "\n",
       "    .dataframe thead th {\n",
       "        text-align: right;\n",
       "    }\n",
       "</style>\n",
       "<table border=\"1\" class=\"dataframe\">\n",
       "  <thead>\n",
       "    <tr style=\"text-align: right;\">\n",
       "      <th></th>\n",
       "      <th>Country</th>\n",
       "      <th>Region</th>\n",
       "      <th>Happiness Rank</th>\n",
       "      <th>Happiness Score</th>\n",
       "      <th>Standard Error</th>\n",
       "      <th>Economy (GDP per Capita)</th>\n",
       "      <th>Family</th>\n",
       "      <th>Health (Life Expectancy)</th>\n",
       "      <th>Freedom</th>\n",
       "      <th>Trust (Government Corruption)</th>\n",
       "      <th>Generosity</th>\n",
       "      <th>Dystopia Residual</th>\n",
       "    </tr>\n",
       "  </thead>\n",
       "  <tbody>\n",
       "    <tr>\n",
       "      <th>0</th>\n",
       "      <td>Switzerland</td>\n",
       "      <td>Western Europe</td>\n",
       "      <td>1</td>\n",
       "      <td>7.587</td>\n",
       "      <td>0.03411</td>\n",
       "      <td>1.39651</td>\n",
       "      <td>1.34951</td>\n",
       "      <td>0.94143</td>\n",
       "      <td>0.66557</td>\n",
       "      <td>0.41978</td>\n",
       "      <td>0.29678</td>\n",
       "      <td>2.51738</td>\n",
       "    </tr>\n",
       "    <tr>\n",
       "      <th>7</th>\n",
       "      <td>Sweden</td>\n",
       "      <td>Western Europe</td>\n",
       "      <td>8</td>\n",
       "      <td>7.364</td>\n",
       "      <td>0.03157</td>\n",
       "      <td>1.33171</td>\n",
       "      <td>1.28907</td>\n",
       "      <td>0.91087</td>\n",
       "      <td>0.65980</td>\n",
       "      <td>0.43844</td>\n",
       "      <td>0.36262</td>\n",
       "      <td>2.37119</td>\n",
       "    </tr>\n",
       "    <tr>\n",
       "      <th>14</th>\n",
       "      <td>United States</td>\n",
       "      <td>North America</td>\n",
       "      <td>15</td>\n",
       "      <td>7.119</td>\n",
       "      <td>0.03839</td>\n",
       "      <td>1.39451</td>\n",
       "      <td>1.24711</td>\n",
       "      <td>0.86179</td>\n",
       "      <td>0.54604</td>\n",
       "      <td>0.15890</td>\n",
       "      <td>0.40105</td>\n",
       "      <td>2.51011</td>\n",
       "    </tr>\n",
       "    <tr>\n",
       "      <th>23</th>\n",
       "      <td>Singapore</td>\n",
       "      <td>Southeastern Asia</td>\n",
       "      <td>24</td>\n",
       "      <td>6.798</td>\n",
       "      <td>0.03780</td>\n",
       "      <td>1.52186</td>\n",
       "      <td>1.02000</td>\n",
       "      <td>1.02525</td>\n",
       "      <td>0.54252</td>\n",
       "      <td>0.49210</td>\n",
       "      <td>0.31105</td>\n",
       "      <td>1.88501</td>\n",
       "    </tr>\n",
       "    <tr>\n",
       "      <th>34</th>\n",
       "      <td>Saudi Arabia</td>\n",
       "      <td>Middle East and Northern Africa</td>\n",
       "      <td>35</td>\n",
       "      <td>6.411</td>\n",
       "      <td>0.04633</td>\n",
       "      <td>1.39541</td>\n",
       "      <td>1.08393</td>\n",
       "      <td>0.72025</td>\n",
       "      <td>0.31048</td>\n",
       "      <td>0.32524</td>\n",
       "      <td>0.13706</td>\n",
       "      <td>2.43872</td>\n",
       "    </tr>\n",
       "    <tr>\n",
       "      <th>35</th>\n",
       "      <td>Spain</td>\n",
       "      <td>Western Europe</td>\n",
       "      <td>36</td>\n",
       "      <td>6.329</td>\n",
       "      <td>0.03468</td>\n",
       "      <td>1.23011</td>\n",
       "      <td>1.31379</td>\n",
       "      <td>0.95562</td>\n",
       "      <td>0.45951</td>\n",
       "      <td>0.06398</td>\n",
       "      <td>0.18227</td>\n",
       "      <td>2.12367</td>\n",
       "    </tr>\n",
       "    <tr>\n",
       "      <th>39</th>\n",
       "      <td>Suriname</td>\n",
       "      <td>Latin America and Caribbean</td>\n",
       "      <td>40</td>\n",
       "      <td>6.269</td>\n",
       "      <td>0.09811</td>\n",
       "      <td>0.99534</td>\n",
       "      <td>0.97200</td>\n",
       "      <td>0.60820</td>\n",
       "      <td>0.59657</td>\n",
       "      <td>0.13633</td>\n",
       "      <td>0.16991</td>\n",
       "      <td>2.79094</td>\n",
       "    </tr>\n",
       "    <tr>\n",
       "      <th>41</th>\n",
       "      <td>El Salvador</td>\n",
       "      <td>Latin America and Caribbean</td>\n",
       "      <td>42</td>\n",
       "      <td>6.130</td>\n",
       "      <td>0.05618</td>\n",
       "      <td>0.76454</td>\n",
       "      <td>1.02507</td>\n",
       "      <td>0.67737</td>\n",
       "      <td>0.40350</td>\n",
       "      <td>0.11776</td>\n",
       "      <td>0.10692</td>\n",
       "      <td>3.03500</td>\n",
       "    </tr>\n",
       "    <tr>\n",
       "      <th>44</th>\n",
       "      <td>Slovakia</td>\n",
       "      <td>Central and Eastern Europe</td>\n",
       "      <td>45</td>\n",
       "      <td>5.995</td>\n",
       "      <td>0.04267</td>\n",
       "      <td>1.16891</td>\n",
       "      <td>1.26999</td>\n",
       "      <td>0.78902</td>\n",
       "      <td>0.31751</td>\n",
       "      <td>0.03431</td>\n",
       "      <td>0.16893</td>\n",
       "      <td>2.24639</td>\n",
       "    </tr>\n",
       "    <tr>\n",
       "      <th>46</th>\n",
       "      <td>South Korea</td>\n",
       "      <td>Eastern Asia</td>\n",
       "      <td>47</td>\n",
       "      <td>5.984</td>\n",
       "      <td>0.04098</td>\n",
       "      <td>1.24461</td>\n",
       "      <td>0.95774</td>\n",
       "      <td>0.96538</td>\n",
       "      <td>0.33208</td>\n",
       "      <td>0.07857</td>\n",
       "      <td>0.18557</td>\n",
       "      <td>2.21978</td>\n",
       "    </tr>\n",
       "    <tr>\n",
       "      <th>54</th>\n",
       "      <td>Slovenia</td>\n",
       "      <td>Central and Eastern Europe</td>\n",
       "      <td>55</td>\n",
       "      <td>5.848</td>\n",
       "      <td>0.04251</td>\n",
       "      <td>1.18498</td>\n",
       "      <td>1.27385</td>\n",
       "      <td>0.87337</td>\n",
       "      <td>0.60855</td>\n",
       "      <td>0.03787</td>\n",
       "      <td>0.25328</td>\n",
       "      <td>1.61583</td>\n",
       "    </tr>\n",
       "    <tr>\n",
       "      <th>86</th>\n",
       "      <td>Serbia</td>\n",
       "      <td>Central and Eastern Europe</td>\n",
       "      <td>87</td>\n",
       "      <td>5.123</td>\n",
       "      <td>0.04864</td>\n",
       "      <td>0.92053</td>\n",
       "      <td>1.00964</td>\n",
       "      <td>0.74836</td>\n",
       "      <td>0.20107</td>\n",
       "      <td>0.02617</td>\n",
       "      <td>0.19231</td>\n",
       "      <td>2.02500</td>\n",
       "    </tr>\n",
       "    <tr>\n",
       "      <th>90</th>\n",
       "      <td>Somaliland region</td>\n",
       "      <td>Sub-Saharan Africa</td>\n",
       "      <td>91</td>\n",
       "      <td>5.057</td>\n",
       "      <td>0.06161</td>\n",
       "      <td>0.18847</td>\n",
       "      <td>0.95152</td>\n",
       "      <td>0.43873</td>\n",
       "      <td>0.46582</td>\n",
       "      <td>0.39928</td>\n",
       "      <td>0.50318</td>\n",
       "      <td>2.11032</td>\n",
       "    </tr>\n",
       "    <tr>\n",
       "      <th>100</th>\n",
       "      <td>Swaziland</td>\n",
       "      <td>Sub-Saharan Africa</td>\n",
       "      <td>101</td>\n",
       "      <td>4.867</td>\n",
       "      <td>0.08742</td>\n",
       "      <td>0.71206</td>\n",
       "      <td>1.07284</td>\n",
       "      <td>0.07566</td>\n",
       "      <td>0.30658</td>\n",
       "      <td>0.03060</td>\n",
       "      <td>0.18259</td>\n",
       "      <td>2.48676</td>\n",
       "    </tr>\n",
       "    <tr>\n",
       "      <th>112</th>\n",
       "      <td>South Africa</td>\n",
       "      <td>Sub-Saharan Africa</td>\n",
       "      <td>113</td>\n",
       "      <td>4.642</td>\n",
       "      <td>0.04585</td>\n",
       "      <td>0.92049</td>\n",
       "      <td>1.18468</td>\n",
       "      <td>0.27688</td>\n",
       "      <td>0.33207</td>\n",
       "      <td>0.08884</td>\n",
       "      <td>0.11973</td>\n",
       "      <td>1.71956</td>\n",
       "    </tr>\n",
       "    <tr>\n",
       "      <th>117</th>\n",
       "      <td>Sudan</td>\n",
       "      <td>Sub-Saharan Africa</td>\n",
       "      <td>118</td>\n",
       "      <td>4.550</td>\n",
       "      <td>0.06740</td>\n",
       "      <td>0.52107</td>\n",
       "      <td>1.01404</td>\n",
       "      <td>0.36878</td>\n",
       "      <td>0.10081</td>\n",
       "      <td>0.14660</td>\n",
       "      <td>0.19062</td>\n",
       "      <td>2.20857</td>\n",
       "    </tr>\n",
       "    <tr>\n",
       "      <th>122</th>\n",
       "      <td>Sierra Leone</td>\n",
       "      <td>Sub-Saharan Africa</td>\n",
       "      <td>123</td>\n",
       "      <td>4.507</td>\n",
       "      <td>0.07068</td>\n",
       "      <td>0.33024</td>\n",
       "      <td>0.95571</td>\n",
       "      <td>0.00000</td>\n",
       "      <td>0.40840</td>\n",
       "      <td>0.08786</td>\n",
       "      <td>0.21488</td>\n",
       "      <td>2.51009</td>\n",
       "    </tr>\n",
       "    <tr>\n",
       "      <th>131</th>\n",
       "      <td>Sri Lanka</td>\n",
       "      <td>Southern Asia</td>\n",
       "      <td>132</td>\n",
       "      <td>4.271</td>\n",
       "      <td>0.03751</td>\n",
       "      <td>0.83524</td>\n",
       "      <td>1.01905</td>\n",
       "      <td>0.70806</td>\n",
       "      <td>0.53726</td>\n",
       "      <td>0.09179</td>\n",
       "      <td>0.40828</td>\n",
       "      <td>0.67108</td>\n",
       "    </tr>\n",
       "    <tr>\n",
       "      <th>141</th>\n",
       "      <td>Senegal</td>\n",
       "      <td>Sub-Saharan Africa</td>\n",
       "      <td>142</td>\n",
       "      <td>3.904</td>\n",
       "      <td>0.03608</td>\n",
       "      <td>0.36498</td>\n",
       "      <td>0.97619</td>\n",
       "      <td>0.43540</td>\n",
       "      <td>0.36772</td>\n",
       "      <td>0.10713</td>\n",
       "      <td>0.20843</td>\n",
       "      <td>1.44395</td>\n",
       "    </tr>\n",
       "    <tr>\n",
       "      <th>155</th>\n",
       "      <td>Syria</td>\n",
       "      <td>Middle East and Northern Africa</td>\n",
       "      <td>156</td>\n",
       "      <td>3.006</td>\n",
       "      <td>0.05015</td>\n",
       "      <td>0.66320</td>\n",
       "      <td>0.47489</td>\n",
       "      <td>0.72193</td>\n",
       "      <td>0.15684</td>\n",
       "      <td>0.18906</td>\n",
       "      <td>0.47179</td>\n",
       "      <td>0.32858</td>\n",
       "    </tr>\n",
       "  </tbody>\n",
       "</table>\n",
       "</div>"
      ],
      "text/plain": [
       "               Country                           Region  Happiness Rank  \\\n",
       "0          Switzerland                   Western Europe               1   \n",
       "7               Sweden                   Western Europe               8   \n",
       "14       United States                    North America              15   \n",
       "23           Singapore                Southeastern Asia              24   \n",
       "34        Saudi Arabia  Middle East and Northern Africa              35   \n",
       "35               Spain                   Western Europe              36   \n",
       "39            Suriname      Latin America and Caribbean              40   \n",
       "41         El Salvador      Latin America and Caribbean              42   \n",
       "44            Slovakia       Central and Eastern Europe              45   \n",
       "46         South Korea                     Eastern Asia              47   \n",
       "54            Slovenia       Central and Eastern Europe              55   \n",
       "86              Serbia       Central and Eastern Europe              87   \n",
       "90   Somaliland region               Sub-Saharan Africa              91   \n",
       "100          Swaziland               Sub-Saharan Africa             101   \n",
       "112       South Africa               Sub-Saharan Africa             113   \n",
       "117              Sudan               Sub-Saharan Africa             118   \n",
       "122       Sierra Leone               Sub-Saharan Africa             123   \n",
       "131          Sri Lanka                    Southern Asia             132   \n",
       "141            Senegal               Sub-Saharan Africa             142   \n",
       "155              Syria  Middle East and Northern Africa             156   \n",
       "\n",
       "     Happiness Score  Standard Error  Economy (GDP per Capita)   Family  \\\n",
       "0              7.587         0.03411                   1.39651  1.34951   \n",
       "7              7.364         0.03157                   1.33171  1.28907   \n",
       "14             7.119         0.03839                   1.39451  1.24711   \n",
       "23             6.798         0.03780                   1.52186  1.02000   \n",
       "34             6.411         0.04633                   1.39541  1.08393   \n",
       "35             6.329         0.03468                   1.23011  1.31379   \n",
       "39             6.269         0.09811                   0.99534  0.97200   \n",
       "41             6.130         0.05618                   0.76454  1.02507   \n",
       "44             5.995         0.04267                   1.16891  1.26999   \n",
       "46             5.984         0.04098                   1.24461  0.95774   \n",
       "54             5.848         0.04251                   1.18498  1.27385   \n",
       "86             5.123         0.04864                   0.92053  1.00964   \n",
       "90             5.057         0.06161                   0.18847  0.95152   \n",
       "100            4.867         0.08742                   0.71206  1.07284   \n",
       "112            4.642         0.04585                   0.92049  1.18468   \n",
       "117            4.550         0.06740                   0.52107  1.01404   \n",
       "122            4.507         0.07068                   0.33024  0.95571   \n",
       "131            4.271         0.03751                   0.83524  1.01905   \n",
       "141            3.904         0.03608                   0.36498  0.97619   \n",
       "155            3.006         0.05015                   0.66320  0.47489   \n",
       "\n",
       "     Health (Life Expectancy)  Freedom  Trust (Government Corruption)  \\\n",
       "0                     0.94143  0.66557                        0.41978   \n",
       "7                     0.91087  0.65980                        0.43844   \n",
       "14                    0.86179  0.54604                        0.15890   \n",
       "23                    1.02525  0.54252                        0.49210   \n",
       "34                    0.72025  0.31048                        0.32524   \n",
       "35                    0.95562  0.45951                        0.06398   \n",
       "39                    0.60820  0.59657                        0.13633   \n",
       "41                    0.67737  0.40350                        0.11776   \n",
       "44                    0.78902  0.31751                        0.03431   \n",
       "46                    0.96538  0.33208                        0.07857   \n",
       "54                    0.87337  0.60855                        0.03787   \n",
       "86                    0.74836  0.20107                        0.02617   \n",
       "90                    0.43873  0.46582                        0.39928   \n",
       "100                   0.07566  0.30658                        0.03060   \n",
       "112                   0.27688  0.33207                        0.08884   \n",
       "117                   0.36878  0.10081                        0.14660   \n",
       "122                   0.00000  0.40840                        0.08786   \n",
       "131                   0.70806  0.53726                        0.09179   \n",
       "141                   0.43540  0.36772                        0.10713   \n",
       "155                   0.72193  0.15684                        0.18906   \n",
       "\n",
       "     Generosity  Dystopia Residual  \n",
       "0       0.29678            2.51738  \n",
       "7       0.36262            2.37119  \n",
       "14      0.40105            2.51011  \n",
       "23      0.31105            1.88501  \n",
       "34      0.13706            2.43872  \n",
       "35      0.18227            2.12367  \n",
       "39      0.16991            2.79094  \n",
       "41      0.10692            3.03500  \n",
       "44      0.16893            2.24639  \n",
       "46      0.18557            2.21978  \n",
       "54      0.25328            1.61583  \n",
       "86      0.19231            2.02500  \n",
       "90      0.50318            2.11032  \n",
       "100     0.18259            2.48676  \n",
       "112     0.11973            1.71956  \n",
       "117     0.19062            2.20857  \n",
       "122     0.21488            2.51009  \n",
       "131     0.40828            0.67108  \n",
       "141     0.20843            1.44395  \n",
       "155     0.47179            0.32858  "
      ]
     },
     "execution_count": 32,
     "metadata": {},
     "output_type": "execute_result"
    }
   ],
   "source": [
    "df[df['Country'].str.contains(r'S\\w+', regex=True)]"
   ]
  },
  {
   "cell_type": "code",
   "execution_count": 33,
   "id": "16f0bbfa-003b-4b42-b3be-d4f761dbd17c",
   "metadata": {},
   "outputs": [
    {
     "data": {
      "text/plain": [
       "array(['Switzerland', 'Iceland', 'Denmark', 'Norway', 'Canada', 'Finland',\n",
       "       'Netherlands', 'Sweden', 'New Zealand', 'Australia', 'Israel',\n",
       "       'Costa Rica', 'Austria', 'Mexico', 'United States', 'Brazil',\n",
       "       'Luxembourg', 'Ireland', 'Belgium', 'United Arab Emirates',\n",
       "       'United Kingdom', 'Oman', 'Venezuela', 'Singapore', 'Panama',\n",
       "       'Germany', 'Chile', 'Qatar', 'France', 'Argentina',\n",
       "       'Czech Republic', 'Uruguay', 'Colombia', 'Thailand',\n",
       "       'Saudi Arabia', 'Spain', 'Malta', 'Taiwan', 'Kuwait', 'Suriname',\n",
       "       'Trinidad and Tobago', 'El Salvador', 'Guatemala', 'Uzbekistan',\n",
       "       'Slovakia', 'Japan', 'South Korea', 'Ecuador', 'Bahrain', 'Italy',\n",
       "       'Bolivia', 'Moldova', 'Paraguay', 'Kazakhstan', 'Slovenia',\n",
       "       'Lithuania', 'Nicaragua', 'Peru', 'Belarus', 'Poland', 'Malaysia',\n",
       "       'Croatia', 'Libya', 'Russia', 'Jamaica', 'North Cyprus', 'Cyprus',\n",
       "       'Algeria', 'Kosovo', 'Turkmenistan', 'Mauritius', 'Hong Kong',\n",
       "       'Estonia', 'Indonesia', 'Vietnam', 'Turkey', 'Kyrgyzstan',\n",
       "       'Nigeria', 'Bhutan', 'Azerbaijan', 'Pakistan', 'Jordan',\n",
       "       'Montenegro', 'China', 'Zambia', 'Romania', 'Serbia', 'Portugal',\n",
       "       'Latvia', 'Philippines', 'Somaliland region', 'Morocco',\n",
       "       'Macedonia', 'Mozambique', 'Albania', 'Bosnia and Herzegovina',\n",
       "       'Lesotho', 'Dominican Republic', 'Laos', 'Mongolia', 'Swaziland',\n",
       "       'Greece', 'Lebanon', 'Hungary', 'Honduras', 'Tajikistan',\n",
       "       'Tunisia', 'Palestinian Territories', 'Bangladesh', 'Iran',\n",
       "       'Ukraine', 'Iraq', 'South Africa', 'Ghana', 'Zimbabwe', 'Liberia',\n",
       "       'India', 'Sudan', 'Haiti', 'Congo (Kinshasa)', 'Nepal', 'Ethiopia',\n",
       "       'Sierra Leone', 'Mauritania', 'Kenya', 'Djibouti', 'Armenia',\n",
       "       'Botswana', 'Myanmar', 'Georgia', 'Malawi', 'Sri Lanka',\n",
       "       'Cameroon', 'Bulgaria', 'Egypt', 'Yemen', 'Angola', 'Mali',\n",
       "       'Congo (Brazzaville)', 'Comoros', 'Uganda', 'Senegal', 'Gabon',\n",
       "       'Niger', 'Cambodia', 'Tanzania', 'Madagascar',\n",
       "       'Central African Republic', 'Chad', 'Guinea', 'Ivory Coast',\n",
       "       'Burkina Faso', 'Afghanistan', 'Rwanda', 'Benin', 'Syria',\n",
       "       'Burundi', 'Togo'], dtype=object)"
      ]
     },
     "execution_count": 33,
     "metadata": {},
     "output_type": "execute_result"
    }
   ],
   "source": [
    "df['Country'].unique()"
   ]
  },
  {
   "cell_type": "code",
   "execution_count": 34,
   "id": "b80cbb58-fc99-4984-864b-a8f4f33fb366",
   "metadata": {},
   "outputs": [],
   "source": [
    "df['first_five_letters'] = df['Country'].str.extract(r\"(^[\\w\\s]{0,6})\", flags=0, expand=True,)"
   ]
  },
  {
   "cell_type": "code",
   "execution_count": 36,
   "id": "637ef473-8d2f-4972-b5e2-2476b16d6e37",
   "metadata": {
    "scrolled": true
   },
   "outputs": [
    {
     "data": {
      "text/html": [
       "<div>\n",
       "<style scoped>\n",
       "    .dataframe tbody tr th:only-of-type {\n",
       "        vertical-align: middle;\n",
       "    }\n",
       "\n",
       "    .dataframe tbody tr th {\n",
       "        vertical-align: top;\n",
       "    }\n",
       "\n",
       "    .dataframe thead th {\n",
       "        text-align: right;\n",
       "    }\n",
       "</style>\n",
       "<table border=\"1\" class=\"dataframe\">\n",
       "  <thead>\n",
       "    <tr style=\"text-align: right;\">\n",
       "      <th></th>\n",
       "      <th>Country</th>\n",
       "      <th>Region</th>\n",
       "      <th>Happiness Rank</th>\n",
       "      <th>Happiness Score</th>\n",
       "      <th>Standard Error</th>\n",
       "      <th>Economy (GDP per Capita)</th>\n",
       "      <th>Family</th>\n",
       "      <th>Health (Life Expectancy)</th>\n",
       "      <th>Freedom</th>\n",
       "      <th>Trust (Government Corruption)</th>\n",
       "      <th>Generosity</th>\n",
       "      <th>Dystopia Residual</th>\n",
       "      <th>first_five_letters</th>\n",
       "    </tr>\n",
       "  </thead>\n",
       "  <tbody>\n",
       "    <tr>\n",
       "      <th>14</th>\n",
       "      <td>United States</td>\n",
       "      <td>North America</td>\n",
       "      <td>15</td>\n",
       "      <td>7.119</td>\n",
       "      <td>0.03839</td>\n",
       "      <td>1.39451</td>\n",
       "      <td>1.24711</td>\n",
       "      <td>0.86179</td>\n",
       "      <td>0.54604</td>\n",
       "      <td>0.1589</td>\n",
       "      <td>0.40105</td>\n",
       "      <td>2.51011</td>\n",
       "      <td>United</td>\n",
       "    </tr>\n",
       "  </tbody>\n",
       "</table>\n",
       "</div>"
      ],
      "text/plain": [
       "          Country         Region  Happiness Rank  Happiness Score  \\\n",
       "14  United States  North America              15            7.119   \n",
       "\n",
       "    Standard Error  Economy (GDP per Capita)   Family  \\\n",
       "14         0.03839                   1.39451  1.24711   \n",
       "\n",
       "    Health (Life Expectancy)  Freedom  Trust (Government Corruption)  \\\n",
       "14                   0.86179  0.54604                         0.1589   \n",
       "\n",
       "    Generosity  Dystopia Residual first_five_letters  \n",
       "14     0.40105            2.51011             United  "
      ]
     },
     "execution_count": 36,
     "metadata": {},
     "output_type": "execute_result"
    }
   ],
   "source": [
    "df[df['Country']=='United States']"
   ]
  },
  {
   "cell_type": "markdown",
   "id": "c6fc730f-7245-4327-a2a4-0b567d59dda5",
   "metadata": {},
   "source": [
    "<h2>QUESTION 11 ANSWER ⬇️</h2>"
   ]
  },
  {
   "cell_type": "code",
   "execution_count": 126,
   "id": "8c5216f3-7adb-4b86-a8b2-b63937b7b634",
   "metadata": {},
   "outputs": [],
   "source": [
    "pattern = r\"^[A-Za-z0-9_]*$\""
   ]
  },
  {
   "cell_type": "code",
   "execution_count": 129,
   "id": "ed89f937-c086-4a22-8f1f-ce40b2ada5c0",
   "metadata": {},
   "outputs": [
    {
     "name": "stdin",
     "output_type": "stream",
     "text": [
      "Enter a String - Normal_Sentence1\n"
     ]
    }
   ],
   "source": [
    "string = input('Enter a String -')"
   ]
  },
  {
   "cell_type": "code",
   "execution_count": 130,
   "id": "c081a696-da18-4550-bdc3-f656222cf711",
   "metadata": {},
   "outputs": [
    {
     "name": "stdout",
     "output_type": "stream",
     "text": [
      "<regex.Match object; span=(0, 16), match='Normal_Sentence1'>\n",
      "<regex.Match object; span=(0, 16), match='Normal_Sentence1'>\n",
      "['Normal_Sentence1']\n"
     ]
    }
   ],
   "source": [
    "print(re.search(pattern, string))\n",
    "print(re.match(pattern, string))\n",
    "print(re.findall(pattern, string))"
   ]
  },
  {
   "cell_type": "markdown",
   "id": "3611dea9-89a8-47aa-b82a-c56ef4599209",
   "metadata": {},
   "source": [
    "<h2>QUESTION 12 ANSWER ⬇️</h2>"
   ]
  },
  {
   "cell_type": "code",
   "execution_count": 38,
   "id": "e29b35fd-a2ea-44ff-8085-9b4848c8c85d",
   "metadata": {},
   "outputs": [],
   "source": [
    "pattern = r\"\\s\\d+\\w+\""
   ]
  },
  {
   "cell_type": "code",
   "execution_count": 39,
   "id": "30470b3d-2ddd-4cf5-9dc6-c2903e2ccb4b",
   "metadata": {},
   "outputs": [
    {
     "name": "stdin",
     "output_type": "stream",
     "text": [
      "Enter string :  vjsmd 5hjfdsf 43428dsjb\n"
     ]
    }
   ],
   "source": [
    "string = input('Enter string : ')"
   ]
  },
  {
   "cell_type": "code",
   "execution_count": 40,
   "id": "a8e24366-390d-4d17-8b92-751293e15a2f",
   "metadata": {},
   "outputs": [
    {
     "data": {
      "text/plain": [
       "[' 5hjfdsf', ' 43428dsjb']"
      ]
     },
     "execution_count": 40,
     "metadata": {},
     "output_type": "execute_result"
    }
   ],
   "source": [
    "re.findall(pattern, string)"
   ]
  },
  {
   "cell_type": "code",
   "execution_count": 42,
   "id": "6ccac9af-594b-4128-8574-0771b373584e",
   "metadata": {},
   "outputs": [
    {
     "name": "stdin",
     "output_type": "stream",
     "text": [
      "Enter a number- 4673\n",
      "Please enter a string - 4673 hsdjgfsh AGHJA haskdha\n"
     ]
    },
    {
     "name": "stdout",
     "output_type": "stream",
     "text": [
      "<regex.Match object; span=(0, 4), match='4673'>\n"
     ]
    }
   ],
   "source": [
    "number = input('Enter a number-')\n",
    "string = input(\"Please enter a string -\")\n",
    "output12 = re.match(number, string)\n",
    "print(output12)"
   ]
  },
  {
   "cell_type": "markdown",
   "id": "b8779bae-0c5a-4aba-9176-5e21a5447bc9",
   "metadata": {},
   "source": [
    "<h2>QUESTION 13 ANSWER ⬇️</h2>"
   ]
  },
  {
   "cell_type": "code",
   "execution_count": 46,
   "id": "87bcdb63-348c-4275-81b4-da1eb0f1ff25",
   "metadata": {},
   "outputs": [],
   "source": [
    "pattern = r\"\\.0+\""
   ]
  },
  {
   "cell_type": "code",
   "execution_count": 47,
   "id": "96f55a19-1db6-4489-8912-73ee09417f60",
   "metadata": {},
   "outputs": [
    {
     "name": "stdin",
     "output_type": "stream",
     "text": [
      "Enter IP ADDRESS :  192.168.024.002\n"
     ]
    }
   ],
   "source": [
    "string = input('Enter IP ADDRESS : ')"
   ]
  },
  {
   "cell_type": "code",
   "execution_count": 48,
   "id": "7ea9f249-3a61-484b-997c-6849a4e8cf84",
   "metadata": {},
   "outputs": [
    {
     "data": {
      "text/plain": [
       "['.0', '.00']"
      ]
     },
     "execution_count": 48,
     "metadata": {},
     "output_type": "execute_result"
    }
   ],
   "source": [
    "re.findall(pattern, string)"
   ]
  },
  {
   "cell_type": "code",
   "execution_count": 49,
   "id": "2233b9a5-b227-444b-8163-6386226f2908",
   "metadata": {},
   "outputs": [
    {
     "name": "stdout",
     "output_type": "stream",
     "text": [
      "192.168.24.2\n"
     ]
    }
   ],
   "source": [
    "output13=re.sub(pattern, \".\", string)\n",
    "print(output13)"
   ]
  },
  {
   "cell_type": "markdown",
   "id": "18953a35-38c2-445f-8f2a-d04b46854dad",
   "metadata": {},
   "source": [
    "<h2>QUESTION 14 ANSWER ⬇️</h2>"
   ]
  },
  {
   "cell_type": "code",
   "execution_count": 50,
   "id": "97c7014e-e9a8-411c-acb9-ad33305f0cc8",
   "metadata": {},
   "outputs": [],
   "source": [
    "string = \" On August 15th 1947 that India was declared independent from British colonialism, and the reins of control were handed over to the leaders of the Country’.\""
   ]
  },
  {
   "cell_type": "code",
   "execution_count": 51,
   "id": "fe706bdb-88d1-44a1-a3f7-510485b8504e",
   "metadata": {},
   "outputs": [],
   "source": [
    "pattern = r\"\\w{1,10}\\s\\d{1,2}\\w{2}\\s\\d{4}\""
   ]
  },
  {
   "cell_type": "code",
   "execution_count": 52,
   "id": "b9f19ede-cda6-4794-9227-bd6958659219",
   "metadata": {},
   "outputs": [
    {
     "data": {
      "text/plain": [
       "['August 15th 1947']"
      ]
     },
     "execution_count": 52,
     "metadata": {},
     "output_type": "execute_result"
    }
   ],
   "source": [
    "re.findall(pattern, string)"
   ]
  },
  {
   "cell_type": "code",
   "execution_count": 53,
   "id": "96c112a2-7c74-406a-a96c-d3a2be580d87",
   "metadata": {},
   "outputs": [],
   "source": [
    "string2 = \"USA GOT ITS INDEPENDENCE ON JULY 4TH 1776 IN PHILADELPHIA MARCH 02nd 1888\""
   ]
  },
  {
   "cell_type": "code",
   "execution_count": 54,
   "id": "f0051d9b-b6a8-4dab-a866-69cdba80b0fe",
   "metadata": {},
   "outputs": [
    {
     "data": {
      "text/plain": [
       "['JULY 4TH 1776', 'MARCH 02nd 1888']"
      ]
     },
     "execution_count": 54,
     "metadata": {},
     "output_type": "execute_result"
    }
   ],
   "source": [
    "re.findall(pattern, string2)"
   ]
  },
  {
   "cell_type": "markdown",
   "id": "db4a0e34-fb3f-4257-9fad-fb88e1c32e94",
   "metadata": {},
   "source": [
    "<h2>QUESTION 15 ANSWER ⬇️</h2>"
   ]
  },
  {
   "cell_type": "code",
   "execution_count": 55,
   "id": "ebe0370c-09bd-4f1f-bf4c-4d25d8d9e6b3",
   "metadata": {},
   "outputs": [],
   "source": [
    "import re"
   ]
  },
  {
   "cell_type": "code",
   "execution_count": 56,
   "id": "f26ffd3a-e8f6-4e02-bc58-1ead6467304f",
   "metadata": {},
   "outputs": [],
   "source": [
    "import regex as re"
   ]
  },
  {
   "cell_type": "code",
   "execution_count": 57,
   "id": "79589804-683d-4308-9591-8caa87724d40",
   "metadata": {},
   "outputs": [],
   "source": [
    "pattern = r\"fox|dog|horse\""
   ]
  },
  {
   "cell_type": "code",
   "execution_count": 58,
   "id": "97991455-eea8-4a06-8cc2-6cf3e141f19c",
   "metadata": {},
   "outputs": [],
   "source": [
    "string4 = \"The quick brown fox jumps over the lazy dog.\""
   ]
  },
  {
   "cell_type": "code",
   "execution_count": 59,
   "id": "0c117c4a-2bbf-4929-abca-cf5db13cea58",
   "metadata": {},
   "outputs": [],
   "source": [
    "output15 = re.findall(pattern, string4)"
   ]
  },
  {
   "cell_type": "code",
   "execution_count": 60,
   "id": "9e4f109b-3a63-4f31-b3ad-a411b2eeefab",
   "metadata": {},
   "outputs": [
    {
     "data": {
      "text/plain": [
       "<regex.Match object; span=(16, 19), match='fox'>"
      ]
     },
     "execution_count": 60,
     "metadata": {},
     "output_type": "execute_result"
    }
   ],
   "source": [
    "re.search(pattern, string4)"
   ]
  },
  {
   "cell_type": "code",
   "execution_count": 61,
   "id": "4c7b78df-d158-4f72-879b-7f9ce687e5d5",
   "metadata": {},
   "outputs": [
    {
     "name": "stdout",
     "output_type": "stream",
     "text": [
      "The matched word found is \"fox\"\n",
      "The matched word found is \"dog\"\n"
     ]
    }
   ],
   "source": [
    "for match in output15:\n",
    "    print(f\"The matched word found is \\\"{match}\\\"\")"
   ]
  },
  {
   "cell_type": "markdown",
   "id": "00c2352d-8434-4af9-ae37-053e1ee76dc0",
   "metadata": {},
   "source": [
    "<h2>QUESTION 16 ANSWER ⬇️</h2>"
   ]
  },
  {
   "cell_type": "code",
   "execution_count": 62,
   "id": "58dff491-f4ff-45cc-891e-1ffef19a3899",
   "metadata": {},
   "outputs": [],
   "source": [
    "pattern = r\"fox\""
   ]
  },
  {
   "cell_type": "code",
   "execution_count": 63,
   "id": "c2af373d-5369-45ec-8317-9c34652973e0",
   "metadata": {},
   "outputs": [],
   "source": [
    "string = \"The quick brown fox jumps over the lazy dog.\""
   ]
  },
  {
   "cell_type": "code",
   "execution_count": 64,
   "id": "3a777112-2e9b-444f-8cc3-4a3bc6d55feb",
   "metadata": {},
   "outputs": [
    {
     "name": "stdout",
     "output_type": "stream",
     "text": [
      "<regex.Match object; span=(16, 19), match='fox'>\n"
     ]
    }
   ],
   "source": [
    "output16=re.search(pattern, string)\n",
    "print(output16)"
   ]
  },
  {
   "cell_type": "code",
   "execution_count": 65,
   "id": "abfcbe8d-78cc-40db-bd9a-b22a1f8f39f2",
   "metadata": {},
   "outputs": [
    {
     "name": "stdout",
     "output_type": "stream",
     "text": [
      "The matched word found :  fox \n",
      "The indexing of the matched word is :  (16, 19)\n"
     ]
    }
   ],
   "source": [
    "print(\"The matched word found : \",output16.group(),\"\\nThe indexing of the matched word is : \" ,output16.span())"
   ]
  },
  {
   "cell_type": "markdown",
   "id": "ad7605d2-3e80-49b8-bbd4-911eb4bf6978",
   "metadata": {},
   "source": [
    "<h2>QUESTION 17 ANSWER ⬇️</h2>"
   ]
  },
  {
   "cell_type": "code",
   "execution_count": 66,
   "id": "7ce6e1cf-dd5b-4c95-b771-03e3947afbfe",
   "metadata": {},
   "outputs": [],
   "source": [
    "pattern = r\"exercises\""
   ]
  },
  {
   "cell_type": "code",
   "execution_count": 67,
   "id": "115f44a5-9484-44c9-9467-ebba30bf0121",
   "metadata": {},
   "outputs": [],
   "source": [
    "string5 =  'Python exercises, PHP exercises, C# exercises'"
   ]
  },
  {
   "cell_type": "code",
   "execution_count": 68,
   "id": "c03f3218-3be3-4c33-a8b4-c7fb137de805",
   "metadata": {},
   "outputs": [
    {
     "data": {
      "text/plain": [
       "['exercises', 'exercises', 'exercises']"
      ]
     },
     "execution_count": 68,
     "metadata": {},
     "output_type": "execute_result"
    }
   ],
   "source": [
    "re.findall(pattern, string5)"
   ]
  },
  {
   "cell_type": "code",
   "execution_count": 69,
   "id": "a1103b5b-8198-47c4-9172-d7b8da5e7b47",
   "metadata": {},
   "outputs": [],
   "source": [
    "re_obj3 = re.compile(pattern)"
   ]
  },
  {
   "cell_type": "code",
   "execution_count": 70,
   "id": "edfba490-5ac8-4a57-846b-155e070adf6c",
   "metadata": {},
   "outputs": [
    {
     "data": {
      "text/plain": [
       "['exercises', 'exercises', 'exercises']"
      ]
     },
     "execution_count": 70,
     "metadata": {},
     "output_type": "execute_result"
    }
   ],
   "source": [
    "re_obj3.findall(string5)"
   ]
  },
  {
   "cell_type": "code",
   "execution_count": 71,
   "id": "69b3ee94-f3a2-44b7-a1e3-2b6218817bf2",
   "metadata": {},
   "outputs": [
    {
     "name": "stdout",
     "output_type": "stream",
     "text": [
      "exercises \t\tThe index position of the word is - (7, 16) \n",
      "\n",
      "exercises \t\tThe index position of the word is - (22, 31) \n",
      "\n",
      "exercises \t\tThe index position of the word is - (36, 45) \n",
      "\n"
     ]
    }
   ],
   "source": [
    "for item in re_obj3.finditer(string5):\n",
    "    print(item.group(), \"\\t\\tThe index position of the word is -\",item.span(),\"\\n\")"
   ]
  },
  {
   "cell_type": "markdown",
   "id": "9f6a30a4-9d1b-4079-9399-3792b1bb0fe4",
   "metadata": {},
   "source": [
    "<h2>QUESTION 18 ANSWER ⬇️</h2>"
   ]
  },
  {
   "cell_type": "code",
   "execution_count": 72,
   "id": "f7df1bcf-9f4e-45d8-b861-7d7987211292",
   "metadata": {},
   "outputs": [],
   "source": [
    "pattern = r\"exercises\""
   ]
  },
  {
   "cell_type": "code",
   "execution_count": 73,
   "id": "e70f7152-6b75-4d74-b86a-0c0e0134de7f",
   "metadata": {},
   "outputs": [],
   "source": [
    "string6 = \"Python exercises, PHP exercises, C# exercises\""
   ]
  },
  {
   "cell_type": "code",
   "execution_count": 74,
   "id": "fed297ba-2283-4273-81b5-e946a941faad",
   "metadata": {},
   "outputs": [],
   "source": [
    "re_obj4 = re.compile(pattern)"
   ]
  },
  {
   "cell_type": "code",
   "execution_count": 75,
   "id": "2db5f097-b853-4c4c-8c1f-9fb8c9b538f6",
   "metadata": {},
   "outputs": [
    {
     "name": "stdout",
     "output_type": "stream",
     "text": [
      "The word : exercises \t&\tThe indexing position is : (7, 16)\n",
      "The word : exercises \t&\tThe indexing position is : (22, 31)\n",
      "The word : exercises \t&\tThe indexing position is : (36, 45)\n"
     ]
    }
   ],
   "source": [
    "for x in re_obj4.finditer(string6):\n",
    "    print(\"The word :\", x.group(),\"\\t&\\tThe indexing position is :\",x.span())"
   ]
  },
  {
   "cell_type": "markdown",
   "id": "c2f2497f-d310-423e-9202-e03b5d404bdc",
   "metadata": {},
   "source": [
    "<h2>QUESTION 19 ANSWER ⬇️</h2>"
   ]
  },
  {
   "cell_type": "code",
   "execution_count": 76,
   "id": "bf9fa242-08fb-4752-9526-1cec64195897",
   "metadata": {},
   "outputs": [],
   "source": [
    "pattern = r\"(\\d{4})-(\\d{2})-(\\d{2})\""
   ]
  },
  {
   "cell_type": "code",
   "execution_count": 77,
   "id": "6934f8ef-2d3a-4fc8-8680-e35a94f17796",
   "metadata": {},
   "outputs": [],
   "source": [
    "string19 = \"Today's date is 2024-03-06 AND RANDOM DATE IS 1957-02-22\""
   ]
  },
  {
   "cell_type": "code",
   "execution_count": 78,
   "id": "19517c63-e6b3-4350-8f0f-5972cf666554",
   "metadata": {},
   "outputs": [
    {
     "data": {
      "text/plain": [
       "<regex.Match object; span=(16, 26), match='2024-03-06'>"
      ]
     },
     "execution_count": 78,
     "metadata": {},
     "output_type": "execute_result"
    }
   ],
   "source": [
    "re.search(pattern, string19)"
   ]
  },
  {
   "cell_type": "code",
   "execution_count": 79,
   "id": "2bed6a53-1bc3-4d58-b7d1-578e42e70876",
   "metadata": {},
   "outputs": [
    {
     "data": {
      "text/plain": [
       "[('2024', '03', '06'), ('1957', '02', '22')]"
      ]
     },
     "execution_count": 79,
     "metadata": {},
     "output_type": "execute_result"
    }
   ],
   "source": [
    "re.findall(pattern, string19)"
   ]
  },
  {
   "cell_type": "code",
   "execution_count": 80,
   "id": "7aa50e05-310c-44ba-a3ab-99230c306d03",
   "metadata": {},
   "outputs": [
    {
     "data": {
      "text/plain": [
       "\"Today's date is 06-03-2024 AND RANDOM DATE IS 22-02-1957\""
      ]
     },
     "execution_count": 80,
     "metadata": {},
     "output_type": "execute_result"
    }
   ],
   "source": [
    "re.sub(pattern, r\"\\3-\\2-\\1\", string19)"
   ]
  },
  {
   "cell_type": "markdown",
   "id": "c778d2de-f4c8-488b-9e48-fe026dc74db4",
   "metadata": {},
   "source": [
    "<h2>QUESTION 20 ANSWER ⬇️</h2>"
   ]
  },
  {
   "cell_type": "code",
   "execution_count": 81,
   "id": "4a760d88-c04e-410a-9d34-7dc0920ae4e2",
   "metadata": {},
   "outputs": [],
   "source": [
    "pattern = r\"\\b\\d*\\.\\d{1,2}\\b\""
   ]
  },
  {
   "cell_type": "code",
   "execution_count": 82,
   "id": "a85b2f09-b689-4502-af55-d2580095f722",
   "metadata": {},
   "outputs": [],
   "source": [
    "string20 = \"01.12 0132.123 2.31875 145.8 3.01 27.25 0.25\""
   ]
  },
  {
   "cell_type": "code",
   "execution_count": 83,
   "id": "c9dc2106-d16a-47c8-b366-57e8b05ea513",
   "metadata": {},
   "outputs": [],
   "source": [
    "re_obj5 = re.compile(pattern)"
   ]
  },
  {
   "cell_type": "code",
   "execution_count": 84,
   "id": "428a087f-0d4b-4f55-9078-5953cfea0257",
   "metadata": {
    "scrolled": true
   },
   "outputs": [
    {
     "data": {
      "text/plain": [
       "['01.12', '145.8', '3.01', '27.25', '0.25']"
      ]
     },
     "execution_count": 84,
     "metadata": {},
     "output_type": "execute_result"
    }
   ],
   "source": [
    "re_obj5.findall(string20)"
   ]
  },
  {
   "cell_type": "markdown",
   "id": "a34a118b-d431-489a-bb60-fb3baec8fff3",
   "metadata": {},
   "source": [
    "<h2>QUESTION 21 ANSWER ⬇️</h2>"
   ]
  },
  {
   "cell_type": "code",
   "execution_count": 85,
   "id": "93753716-8063-490f-ad5c-8feadacd1992",
   "metadata": {},
   "outputs": [],
   "source": [
    "pattern = r\"\\d+\""
   ]
  },
  {
   "cell_type": "code",
   "execution_count": 86,
   "id": "24b4736b-d012-490a-aca1-fcf3e7c1ac83",
   "metadata": {},
   "outputs": [],
   "source": [
    "string21 = \"AC MILAN HAVE WON 7 CHAMPIONS LEAGUE AND REAL MADRID HAVE WON 14 CHAMPIONS LEAGUE.\""
   ]
  },
  {
   "cell_type": "code",
   "execution_count": 87,
   "id": "be6ef736-7340-4a2a-95c5-d4d3b5b6031e",
   "metadata": {},
   "outputs": [
    {
     "name": "stdout",
     "output_type": "stream",
     "text": [
      "Number is 7 - index starts at 18 & ends at 19\n",
      "Number is 14 - index starts at 62 & ends at 64\n"
     ]
    }
   ],
   "source": [
    "for x in re.finditer(pattern, string21):\n",
    "    print(f\"Number is {x.group()} - index starts at {x.start()} & ends at {x.end()}\")"
   ]
  },
  {
   "cell_type": "markdown",
   "id": "5c7a3ef0-4d0c-4897-b0be-2c95569c115d",
   "metadata": {},
   "source": [
    "<h2>QUESTION 22 ANSWER ⬇️</h2>"
   ]
  },
  {
   "cell_type": "code",
   "execution_count": 88,
   "id": "352a05c2-5a6d-4cfe-9c5d-abe96e355e1d",
   "metadata": {},
   "outputs": [],
   "source": [
    "pattern = r\"\\d+\""
   ]
  },
  {
   "cell_type": "code",
   "execution_count": 89,
   "id": "9ba16e8c-1771-439f-84a1-0f695d73cce6",
   "metadata": {},
   "outputs": [],
   "source": [
    "string22 = 'My marks in each semester are: 947, 896, 926, 524, 734, 950, 642'"
   ]
  },
  {
   "cell_type": "code",
   "execution_count": 90,
   "id": "ef1a50b9-ba14-4f74-996f-84fe59e692e0",
   "metadata": {},
   "outputs": [
    {
     "data": {
      "text/plain": [
       "['947', '896', '926', '524', '734', '950', '642']"
      ]
     },
     "execution_count": 90,
     "metadata": {},
     "output_type": "execute_result"
    }
   ],
   "source": [
    "re.findall(pattern, string22)"
   ]
  },
  {
   "cell_type": "code",
   "execution_count": 91,
   "id": "d51f0299-89c3-48e3-808e-90e7682447b0",
   "metadata": {
    "scrolled": true
   },
   "outputs": [
    {
     "data": {
      "text/plain": [
       "'950'"
      ]
     },
     "execution_count": 91,
     "metadata": {},
     "output_type": "execute_result"
    }
   ],
   "source": [
    "max(re.findall(pattern, string22))"
   ]
  },
  {
   "cell_type": "markdown",
   "id": "948d5bed-ad2d-4954-8ea8-ad4b9c1ae3f2",
   "metadata": {},
   "source": [
    "<h2>QUESTION 23 ANSWER ⬇️</h2>"
   ]
  },
  {
   "cell_type": "code",
   "execution_count": 92,
   "id": "c8dc9748-441b-4a13-8fc0-897d8b294c6c",
   "metadata": {},
   "outputs": [],
   "source": [
    "pattern = r\"([A-Z])\""
   ]
  },
  {
   "cell_type": "code",
   "execution_count": 93,
   "id": "717feb7f-59b6-447d-ba61-5d02cf20de80",
   "metadata": {},
   "outputs": [],
   "source": [
    "string23 = \"RegularExpressionIsAnImportantTopicInPython\""
   ]
  },
  {
   "cell_type": "code",
   "execution_count": 94,
   "id": "425a83eb-c08a-4e99-82b4-8fa5da04c363",
   "metadata": {},
   "outputs": [
    {
     "name": "stdout",
     "output_type": "stream",
     "text": [
      " Regular Expression Is An Important Topic In Python\n"
     ]
    }
   ],
   "source": [
    "output23 = re.sub(pattern, r\" \\1\", string23)\n",
    "print(output23)"
   ]
  },
  {
   "cell_type": "markdown",
   "id": "67329894-e65b-44ff-90e8-27ee077bd001",
   "metadata": {},
   "source": [
    "<h2>QUESTION 24 ANSWER ⬇️</h2>"
   ]
  },
  {
   "cell_type": "code",
   "execution_count": 95,
   "id": "02242d17-0f9a-4a9c-bd9e-54869299d660",
   "metadata": {},
   "outputs": [],
   "source": [
    "pattern = r\"[A-Z][a-z]+\""
   ]
  },
  {
   "cell_type": "code",
   "execution_count": 96,
   "id": "1f9f2c0a-d03f-4119-94dd-3a96f1b6ce71",
   "metadata": {},
   "outputs": [],
   "source": [
    "string24 = \"RegularExpressionIsAnImportantTopicInPython45jhsdfgsHelp4People\""
   ]
  },
  {
   "cell_type": "code",
   "execution_count": 97,
   "id": "f28396a2-46ae-4233-a779-68db791594a0",
   "metadata": {},
   "outputs": [
    {
     "data": {
      "text/plain": [
       "['Regular',\n",
       " 'Expression',\n",
       " 'Is',\n",
       " 'An',\n",
       " 'Important',\n",
       " 'Topic',\n",
       " 'In',\n",
       " 'Python',\n",
       " 'Help',\n",
       " 'People']"
      ]
     },
     "execution_count": 97,
     "metadata": {},
     "output_type": "execute_result"
    }
   ],
   "source": [
    "re.findall(pattern, string24)"
   ]
  },
  {
   "cell_type": "markdown",
   "id": "78ac1244-869c-4860-a4a7-c13e6889897b",
   "metadata": {},
   "source": [
    "<h2>QUESTION 25 ANSWER ⬇️</h2>"
   ]
  },
  {
   "cell_type": "code",
   "execution_count": 98,
   "id": "6309c01c-8be4-46c8-9284-eccdc5f694e8",
   "metadata": {},
   "outputs": [],
   "source": [
    "import re\n",
    "import regex as re"
   ]
  },
  {
   "cell_type": "code",
   "execution_count": 99,
   "id": "b5572cb8-e544-4610-99e5-5c6cc6c6d986",
   "metadata": {},
   "outputs": [],
   "source": [
    "pattern = r\"\\b(\\w+)(?:\\W+\\1\\b)+\""
   ]
  },
  {
   "cell_type": "code",
   "execution_count": 100,
   "id": "b8034c2c-03a1-48bc-813e-ed135f943811",
   "metadata": {},
   "outputs": [],
   "source": [
    "string25 = \"Hello hello world is great world John John Cena\""
   ]
  },
  {
   "cell_type": "code",
   "execution_count": 101,
   "id": "17be99c1-f498-47ec-9fc5-e8e76a14e6b1",
   "metadata": {},
   "outputs": [
    {
     "name": "stdout",
     "output_type": "stream",
     "text": [
      "Hello world is great world John Cena\n"
     ]
    }
   ],
   "source": [
    "output25 = re.sub(pattern, r\"\\1\", string25, flags=re.IGNORECASE)\n",
    "print(output25)"
   ]
  },
  {
   "cell_type": "markdown",
   "id": "135b182f-8436-4c30-a345-0085cc7dd839",
   "metadata": {},
   "source": [
    "<h2>QUESTION 26 ANSWER ⬇️</h2>"
   ]
  },
  {
   "cell_type": "code",
   "execution_count": 102,
   "id": "77a3d78c-47a0-4fca-8350-bfbe07ac2ceb",
   "metadata": {
    "scrolled": true
   },
   "outputs": [
    {
     "name": "stdin",
     "output_type": "stream",
     "text": [
      "jhsc :  ashjda$% gdjsa 67gsdjyj SHAGJ6((jdsfsj\n"
     ]
    },
    {
     "name": "stdout",
     "output_type": "stream",
     "text": [
      "<regex.Match object; span=(37, 38), match='j'>\n",
      "Accept\n"
     ]
    }
   ],
   "source": [
    "pattern = r\"[a-zA-Z0-9]$\"\n",
    "\n",
    "string26 = input(\"jhsc : \")\n",
    "print(re.search(pattern, string26))\n",
    "if (re.search(pattern, string26)):\n",
    "    print('Accept')\n",
    "else:\n",
    "    print(\"Wrong input\")\n",
    "    print()\n",
    "    del string26"
   ]
  },
  {
   "cell_type": "markdown",
   "id": "a5528a60-8826-4312-84d7-cf9a6b4bffdf",
   "metadata": {},
   "source": [
    "<h2>QUESTION 27 ANSWER ⬇️</h2>"
   ]
  },
  {
   "cell_type": "code",
   "execution_count": 103,
   "id": "21fc6320-3124-4669-acde-33e452c3a476",
   "metadata": {},
   "outputs": [],
   "source": [
    "pattern = r\"#\\w+\\b\""
   ]
  },
  {
   "cell_type": "code",
   "execution_count": 104,
   "id": "97ad3229-91c9-4d28-8ad4-eadea26ab7b5",
   "metadata": {},
   "outputs": [],
   "source": [
    "string27 = \"\"\"RT @kapil_kausik: #Doltiwal I mean #xyzabc is \"hurt\" by #Demonetization as the same has rendered USELESS <ed><U+00A0><U+00BD><ed><U+00B1><U+0089> \"acquired funds\" No wo\"\"\""
   ]
  },
  {
   "cell_type": "code",
   "execution_count": 105,
   "id": "cd4f0e43-54ff-4e2f-8345-cc941ace47b4",
   "metadata": {},
   "outputs": [
    {
     "name": "stdout",
     "output_type": "stream",
     "text": [
      "['#Doltiwal', '#xyzabc', '#Demonetization']\n"
     ]
    }
   ],
   "source": [
    "output27 = re.findall(pattern, string27)\n",
    "print(output27)"
   ]
  },
  {
   "cell_type": "markdown",
   "id": "859c9e6d-bdd0-4e3c-946f-27d5c70f2f68",
   "metadata": {},
   "source": [
    "<h2>QUESTION 28 ANSWER ⬇️</h2>"
   ]
  },
  {
   "cell_type": "code",
   "execution_count": 106,
   "id": "66fe8730-96db-4302-b3eb-522861462fc9",
   "metadata": {},
   "outputs": [],
   "source": [
    "pattern = r\"<U\\+[\\w]+>\""
   ]
  },
  {
   "cell_type": "code",
   "execution_count": 107,
   "id": "406f9b8d-af74-4829-8b75-072444e71c32",
   "metadata": {},
   "outputs": [],
   "source": [
    "string28 = \"@Jags123456 Bharat band on 28??<ed><U+00A0><U+00BD><ed><U+00B8><U+0082>Those who  are protesting #demonetization  are all different party leaders\""
   ]
  },
  {
   "cell_type": "code",
   "execution_count": 108,
   "id": "6750f73e-d7fc-4236-b4b2-1e78fd60426d",
   "metadata": {},
   "outputs": [
    {
     "data": {
      "text/plain": [
       "['<U+00A0>', '<U+00BD>', '<U+00B8>', '<U+0082>']"
      ]
     },
     "execution_count": 108,
     "metadata": {},
     "output_type": "execute_result"
    }
   ],
   "source": [
    "re.findall(pattern, string28)"
   ]
  },
  {
   "cell_type": "code",
   "execution_count": 109,
   "id": "6ebe1a61-51b8-4a31-874c-8b90ba31afa5",
   "metadata": {},
   "outputs": [],
   "source": [
    "output28 = re.sub(pattern, r\"\",string28)"
   ]
  },
  {
   "cell_type": "code",
   "execution_count": 110,
   "id": "676c4db3-aca7-41ec-a415-a66a0d084f42",
   "metadata": {},
   "outputs": [
    {
     "name": "stdout",
     "output_type": "stream",
     "text": [
      "@Jags123456 Bharat band on 28??<ed><ed>Those who  are protesting #demonetization  are all different party leaders\n"
     ]
    }
   ],
   "source": [
    "print(output28)"
   ]
  },
  {
   "cell_type": "markdown",
   "id": "396c22d4-d121-4ad3-9a62-cba30cbd08e3",
   "metadata": {},
   "source": [
    "<h2>QUESTION 29 ANSWER ⬇️</h2>"
   ]
  },
  {
   "cell_type": "code",
   "execution_count": 111,
   "id": "9c443eb8-5198-487d-a318-4361927a3a8f",
   "metadata": {},
   "outputs": [],
   "source": [
    "string_to_text_file2 = \"Ron was born on 12-09-1992 and he was admitted to school 15-12-1999.\""
   ]
  },
  {
   "cell_type": "code",
   "execution_count": 112,
   "id": "30e03082-83bb-426f-bd1c-d2f6c2dd7ff9",
   "metadata": {},
   "outputs": [],
   "source": [
    "with open(\"text2.txt\", \"w\") as file:\n",
    "    file.write(string_to_text_file2)"
   ]
  },
  {
   "cell_type": "code",
   "execution_count": 113,
   "id": "0f96acb7-e801-4371-9821-2dd0e8a6f5a9",
   "metadata": {},
   "outputs": [],
   "source": [
    "with open(\"text2.txt\", \"r\") as file:\n",
    "    string29 = file.read()"
   ]
  },
  {
   "cell_type": "code",
   "execution_count": 114,
   "id": "a3079350-4105-450c-a57c-37d0d6bddde1",
   "metadata": {},
   "outputs": [
    {
     "name": "stdout",
     "output_type": "stream",
     "text": [
      "Ron was born on 12-09-1992 and he was admitted to school 15-12-1999.\n"
     ]
    }
   ],
   "source": [
    "print(string29)"
   ]
  },
  {
   "cell_type": "code",
   "execution_count": 115,
   "id": "e7dc6672-ae86-4cb7-a03f-b3b82fbb490a",
   "metadata": {},
   "outputs": [],
   "source": [
    "pattern = \"\\d{1,2}-\\d{1,2}-\\d{4}\""
   ]
  },
  {
   "cell_type": "code",
   "execution_count": 116,
   "id": "d6539f07-c923-40a4-967b-298e5d44f146",
   "metadata": {},
   "outputs": [
    {
     "name": "stdout",
     "output_type": "stream",
     "text": [
      "['12-09-1992', '15-12-1999']\n"
     ]
    }
   ],
   "source": [
    "output29=re.findall(pattern, string29)\n",
    "print(output29)"
   ]
  },
  {
   "cell_type": "markdown",
   "id": "ff05c16e-94a6-4002-a476-5fdcdfee297b",
   "metadata": {},
   "source": [
    "<h2>QUESTION 30 ANSWER ⬇️</h2>"
   ]
  },
  {
   "cell_type": "code",
   "execution_count": 117,
   "id": "36f47723-2ef4-4c46-9134-1b0a405448d1",
   "metadata": {},
   "outputs": [],
   "source": [
    "pattern=r\"\\b\\w{2,4}\\b\""
   ]
  },
  {
   "cell_type": "code",
   "execution_count": 118,
   "id": "f5fc0ef3-4bac-45c1-88b8-17128ec3c94c",
   "metadata": {},
   "outputs": [],
   "source": [
    "re_obj4 = re.compile(pattern)"
   ]
  },
  {
   "cell_type": "code",
   "execution_count": 119,
   "id": "46acae62-0e65-4132-84d1-b6d13fd9f0f9",
   "metadata": {},
   "outputs": [],
   "source": [
    "string30 = \"The following example creates an ArrayList with a capacity of 50 elements. 4 elements are then added to the ArrayList and the ArrayList is trimmed accordingly.\""
   ]
  },
  {
   "cell_type": "code",
   "execution_count": 120,
   "id": "cc735f0e-24e0-4212-b2a1-330d7e37bc83",
   "metadata": {},
   "outputs": [
    {
     "data": {
      "text/plain": [
       "['The',\n",
       " 'an',\n",
       " 'with',\n",
       " 'of',\n",
       " '50',\n",
       " 'are',\n",
       " 'then',\n",
       " 'to',\n",
       " 'the',\n",
       " 'and',\n",
       " 'the',\n",
       " 'is']"
      ]
     },
     "execution_count": 120,
     "metadata": {},
     "output_type": "execute_result"
    }
   ],
   "source": [
    "re.findall(pattern, string30)"
   ]
  },
  {
   "cell_type": "code",
   "execution_count": 121,
   "id": "d0f77a2c-26c8-47db-839c-78dd38faaf6d",
   "metadata": {},
   "outputs": [
    {
     "data": {
      "text/plain": [
       "['The',\n",
       " 'an',\n",
       " 'with',\n",
       " 'of',\n",
       " '50',\n",
       " 'are',\n",
       " 'then',\n",
       " 'to',\n",
       " 'the',\n",
       " 'and',\n",
       " 'the',\n",
       " 'is']"
      ]
     },
     "execution_count": 121,
     "metadata": {},
     "output_type": "execute_result"
    }
   ],
   "source": [
    "re_obj4.findall(string30)"
   ]
  },
  {
   "cell_type": "code",
   "execution_count": 122,
   "id": "face0054-f7e1-4216-8e83-c9b4d63f5fb6",
   "metadata": {},
   "outputs": [],
   "source": [
    "output30=re_obj4.sub(\"\", string30)"
   ]
  },
  {
   "cell_type": "code",
   "execution_count": 123,
   "id": "dd9b26b2-c003-488c-a9ae-50870269871c",
   "metadata": {},
   "outputs": [
    {
     "data": {
      "text/plain": [
       "' following example creates  ArrayList  a capacity   elements. 4 elements   added   ArrayList   ArrayList  trimmed accordingly.'"
      ]
     },
     "execution_count": 123,
     "metadata": {},
     "output_type": "execute_result"
    }
   ],
   "source": [
    "output30"
   ]
  },
  {
   "cell_type": "code",
   "execution_count": null,
   "id": "6518f786-8517-46a1-9689-860cc454ed2b",
   "metadata": {},
   "outputs": [],
   "source": []
  }
 ],
 "metadata": {
  "kernelspec": {
   "display_name": "Python 3 (ipykernel)",
   "language": "python",
   "name": "python3"
  },
  "language_info": {
   "codemirror_mode": {
    "name": "ipython",
    "version": 3
   },
   "file_extension": ".py",
   "mimetype": "text/x-python",
   "name": "python",
   "nbconvert_exporter": "python",
   "pygments_lexer": "ipython3",
   "version": "3.11.5"
  }
 },
 "nbformat": 4,
 "nbformat_minor": 5
}
